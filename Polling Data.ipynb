{
 "metadata": {
  "name": ""
 },
 "nbformat": 3,
 "nbformat_minor": 0,
 "worksheets": [
  {
   "cells": [
    {
     "cell_type": "code",
     "collapsed": false,
     "input": [
      "import pandas as pd\n",
      "from bs4 import BeautifulSoup\n",
      "import urllib2\n",
      "import re\n",
      "import time"
     ],
     "language": "python",
     "metadata": {},
     "outputs": [],
     "prompt_number": 14
    },
    {
     "cell_type": "code",
     "collapsed": false,
     "input": [
      "#Make a dictionary of corresponding to state names\n",
      "states = {}\n",
      "with open(\"states.csv\") as statesCSV:\n",
      "    for state in statesCSV:\n",
      "        state = state.split(',')\n",
      "        states[state[1].replace('\\n',\"\")] = state[0]"
     ],
     "language": "python",
     "metadata": {},
     "outputs": [],
     "prompt_number": 15
    },
    {
     "cell_type": "code",
     "collapsed": false,
     "input": [
      "def parseHTMLTable(table, year=2008):\n",
      "    #Get the columns of the table\n",
      "    cols = []\n",
      "    for attr in table.find('tr'):\n",
      "        attr = attr.get_text().encode('ascii','ignore')\n",
      "        if(attr == ''): continue\n",
      "        if(attr == 'Obama (D)'): attr = 'Obama'\n",
      "        elif(attr == 'Romney (R)'): attr = 'Romney'\n",
      "        elif(attr == 'McCain (R)'): attr = 'McCain'\n",
      "        elif(attr == 'Bush (R)'): attr = 'Bush'\n",
      "        elif(attr == 'Kerry (D)'): attr = 'Kerry'\n",
      "        cols.append(attr)\n",
      "    polls = pd.DataFrame(columns=cols)\n",
      "    if len(table.find('tr')) < 3:\n",
      "        return polls\n",
      "    #Add each poll to the polls data frame\n",
      "    for row in table.findAll('tr')[3:]: #Start at the 3rd row to skip header data\n",
      "        results = {}\n",
      "        for attr, col in zip(row.findAll('td'), cols):\n",
      "            attr = str(attr.get_text())\n",
      "            if(col == 'Date'): \n",
      "                attr = attr[-5:].replace(\" \",\"\").replace(\"-\",\"\")\n",
      "            elif(col == 'Sample'):\n",
      "                attr = ''.join(re.findall(r\"\\d+\", attr))\n",
      "                attr = int(attr) if attr != '' else 0\n",
      "            elif(col == 'MoE'): \n",
      "                attr = float(attr) if attr != '--' else float('nan')\n",
      "            elif(col == 'Obama' or col == 'McCain' or col == 'Bush' or col == 'Kerry' or col == 'Romney'): \n",
      "                attr = float(attr)\n",
      "            results[col] = attr\n",
      "        if   year == 2012: results['Spread'] = results['Obama'] - results['Romney']\n",
      "        elif year == 2008: results['Spread'] = results['Obama'] - results['McCain']\n",
      "        elif year == 2004: results['Spread'] = results['Kerry'] - results['Bush']\n",
      "        poll = pd.DataFrame(data=results, columns=cols, index=[0])\n",
      "        polls = polls.append(poll, ignore_index=True)\n",
      "    return polls"
     ],
     "language": "python",
     "metadata": {},
     "outputs": [],
     "prompt_number": 16
    },
    {
     "cell_type": "code",
     "collapsed": false,
     "input": [
      "\"\"\"\n",
      "Get national poll data from the Obama-Romney 2012 race\n",
      "\"\"\"\n",
      "ObamaRomneyURL = 'http://www.realclearpolitics.com/epolls/2012/president/us/general_election_romney_vs_obama-1171.html'\n",
      "success = False\n",
      "attempts = 0\n",
      "while success == False and attempts < 20:\n",
      "    try:\n",
      "        html = urllib2.urlopen(ObamaRomneyURL).read()\n",
      "        success = True\n",
      "    except:\n",
      "        attempts+=1\n",
      "        print \"Failed to get national poll data from 2012 on attempt\", attempts\n",
      "if attempts == 20:\n",
      "    print \"Failed to get national poll data for 2012, try to run this cell again\"\n",
      "else:\n",
      "    print \"Succesfully got national poll data for 2012 after %d attempts\" % (attempts+1)\n",
      "    election_2012 = BeautifulSoup(html)\n",
      "    html_table = election_2012.find_all('table', {'class':'data'})[2] #Use the third table containing all the data\n",
      "    national_polls = parseHTMLTable(html_table, year=2012)\n",
      "    #Fill in missing MoE and Sampling data\n",
      "    national_polls.MoE = national_polls.MoE.replace(float('nan'), national_polls.MoE.mean()+national_polls.MoE.std())\n",
      "    national_polls.Sample = national_polls.Sample.replace(0, national_polls.Sample.mean() - national_polls.Sample.std())\n",
      "    national_polls.to_csv(\"PollingData/National2012.csv\", index=False)"
     ],
     "language": "python",
     "metadata": {},
     "outputs": [
      {
       "output_type": "stream",
       "stream": "stdout",
       "text": [
        "Failed to get national poll data from 2012 on attempt 1\n",
        "Failed to get national poll data from 2012 on attempt"
       ]
      },
      {
       "output_type": "stream",
       "stream": "stdout",
       "text": [
        " 2\n",
        "Failed to get national poll data from 2012 on attempt 3\n",
        "Failed to get national poll data from 2012 on attempt 4\n",
        "Failed to get national poll data from 2012 on attempt 5\n",
        "Failed to get national poll data from 2012 on attempt 6\n",
        "Failed to get national poll data from 2012 on attempt 7\n",
        "Failed to get national poll data from 2012 on attempt 8\n",
        "Failed to get national poll data from 2012 on attempt 9\n",
        "Failed to get national poll data from 2012 on attempt 10\n",
        "Failed to get national poll data from 2012 on attempt 11\n",
        "Failed to get national poll data from 2012 on attempt 12\n",
        "Failed to get national poll data from 2012 on attempt 13\n",
        "Failed to get national poll data from 2012 on attempt 14\n",
        "Failed to get national poll data from 2012 on attempt 15\n",
        "Failed to get national poll data from 2012 on attempt 16\n",
        "Failed to get national poll data from 2012 on attempt 17\n",
        "Failed to get national poll data from 2012 on attempt 18\n",
        "Failed to get national poll data from 2012 on attempt 19\n",
        "Failed to get national poll data from 2012 on attempt 20\n",
        "Failed to get national poll data for 2012, try to run this cell again\n"
       ]
      }
     ],
     "prompt_number": 17
    },
    {
     "cell_type": "code",
     "collapsed": false,
     "input": [
      "\"\"\"\n",
      "Get state polling data from the Obama-Romney 2012 Race\n",
      "\"\"\"\n",
      "ObamaRomneyStatesURL = 'http://www.realclearpolitics.com/epolls/2012/president/battleground_states.html'\n",
      "displaySuccess = False\n",
      "state_polls = pd.DataFrame()\n",
      "with open(\"2012_State_Poll_Links\") as state_poll_links:\n",
      "    for url in state_poll_links:\n",
      "        success = False\n",
      "        attempts = 0\n",
      "        state = url[55:57].upper()\n",
      "        while success == False and attempts < 20:\n",
      "            try:\n",
      "                html = urllib2.urlopen(url).read()\n",
      "                success = True\n",
      "            except:\n",
      "                attempts+=1\n",
      "                print \"Failed to get states poll data from 2012 on attempt\", attempts\n",
      "                time.sleep(1)\n",
      "        if attempts == 20:\n",
      "            print \"Failed to get states poll data from 2012, try to run this cell again\"\n",
      "            success = False\n",
      "            break\n",
      "        else:\n",
      "            if displaySuccess == True:\n",
      "                print \"Successfully got data for %s after %d attempts\" % (states[state], (attempts+1))\n",
      "            state_election = BeautifulSoup(html)\n",
      "            html_table = state_election.find('table', {'class':'data'})\n",
      "            state_poll = parseHTMLTable(html_table,year=2012)\n",
      "            state_poll['State'] = state\n",
      "            state_polls = state_polls.append(state_poll, ignore_index=True)\n",
      "    if success == True:\n",
      "        print \"Successfully got state polling data for 2012, writing to CSV file\"\n",
      "        state_polls.to_csv(\"PollingData/State2012.csv\", index=False)\n",
      "        print state_polls.head(5)"
     ],
     "language": "python",
     "metadata": {},
     "outputs": [
      {
       "output_type": "stream",
       "stream": "stdout",
       "text": [
        "Failed to get states poll data from 2012 on attempt 1\n",
        "Failed to get states poll data from 2012 on attempt"
       ]
      },
      {
       "output_type": "stream",
       "stream": "stdout",
       "text": [
        " 2\n",
        "Failed to get states poll data from 2012 on attempt"
       ]
      },
      {
       "output_type": "stream",
       "stream": "stdout",
       "text": [
        " 3\n",
        "Failed to get states poll data from 2012 on attempt"
       ]
      },
      {
       "output_type": "stream",
       "stream": "stdout",
       "text": [
        " 4\n",
        "Failed to get states poll data from 2012 on attempt"
       ]
      },
      {
       "output_type": "stream",
       "stream": "stdout",
       "text": [
        " 5\n",
        "Failed to get states poll data from 2012 on attempt"
       ]
      },
      {
       "output_type": "stream",
       "stream": "stdout",
       "text": [
        " 6\n",
        "Failed to get states poll data from 2012 on attempt"
       ]
      },
      {
       "output_type": "stream",
       "stream": "stdout",
       "text": [
        " 7\n",
        "Failed to get states poll data from 2012 on attempt"
       ]
      },
      {
       "output_type": "stream",
       "stream": "stdout",
       "text": [
        " 8\n",
        "Failed to get states poll data from 2012 on attempt"
       ]
      },
      {
       "output_type": "stream",
       "stream": "stdout",
       "text": [
        " 9\n",
        "Failed to get states poll data from 2012 on attempt"
       ]
      },
      {
       "output_type": "stream",
       "stream": "stdout",
       "text": [
        " 10\n",
        "Failed to get states poll data from 2012 on attempt"
       ]
      },
      {
       "output_type": "stream",
       "stream": "stdout",
       "text": [
        " 11\n",
        "Failed to get states poll data from 2012 on attempt"
       ]
      },
      {
       "output_type": "stream",
       "stream": "stdout",
       "text": [
        " 12\n",
        "Failed to get states poll data from 2012 on attempt"
       ]
      },
      {
       "output_type": "stream",
       "stream": "stdout",
       "text": [
        " 13\n",
        "Failed to get states poll data from 2012 on attempt"
       ]
      },
      {
       "output_type": "stream",
       "stream": "stdout",
       "text": [
        " 14\n",
        "Failed to get states poll data from 2012 on attempt"
       ]
      },
      {
       "output_type": "stream",
       "stream": "stdout",
       "text": [
        " 15\n",
        "Failed to get states poll data from 2012 on attempt"
       ]
      },
      {
       "output_type": "stream",
       "stream": "stdout",
       "text": [
        " 16\n",
        "Failed to get states poll data from 2012 on attempt"
       ]
      },
      {
       "output_type": "stream",
       "stream": "stdout",
       "text": [
        " 17\n",
        "Failed to get states poll data from 2012 on attempt"
       ]
      },
      {
       "output_type": "stream",
       "stream": "stdout",
       "text": [
        " 18\n",
        "Failed to get states poll data from 2012 on attempt"
       ]
      },
      {
       "output_type": "stream",
       "stream": "stdout",
       "text": [
        " 19\n",
        "Failed to get states poll data from 2012 on attempt"
       ]
      },
      {
       "output_type": "stream",
       "stream": "stdout",
       "text": [
        " 20\n",
        "Failed to get states poll data from 2012, try to run this cell again"
       ]
      },
      {
       "output_type": "stream",
       "stream": "stdout",
       "text": [
        "\n"
       ]
      }
     ],
     "prompt_number": 18
    },
    {
     "cell_type": "code",
     "collapsed": false,
     "input": [
      "\"\"\"\n",
      "Get national poll data from the Obama-McCain 2008 race\n",
      "\"\"\"\n",
      "ObamaMcCainURL = 'http://www.realclearpolitics.com/epolls/2008/president/us/general_election_mccain_vs_obama-225.html#polls'\n",
      "success = False\n",
      "attempts = 0\n",
      "while success == False and attempts < 20:\n",
      "    try:\n",
      "        html = urllib2.urlopen(ObamaMcCainURL).read()\n",
      "        success = True\n",
      "    except:\n",
      "        attempts+=1\n",
      "        print \"Failed to get national poll data from 2008 on attempt\", attempts\n",
      "if attempts == 20:\n",
      "    print \"Failed to get national poll data for 2008, try to run this cell again\"\n",
      "else:\n",
      "    print \"Succesfully got national poll data for 2008 after %d attempts\" % (attempts+1)\n",
      "    election_2008 = BeautifulSoup(html)\n",
      "    html_table = election_2008.find_all('table', {'class':'data'})[1] #Use the second table containing all the data\n",
      "    national_polls = parseHTMLTable(html_table, year=2008)\n",
      "    national_polls.to_csv(\"PollingData/National2008.csv\", index=False)\n",
      "    print national_polls.head(5)"
     ],
     "language": "python",
     "metadata": {},
     "outputs": [
      {
       "output_type": "stream",
       "stream": "stdout",
       "text": [
        "Failed to get national poll data from 2008 on attempt 1\n",
        "Failed to get national poll data from 2008 on attempt 2\n",
        "Failed to get national poll data from 2008 on attempt 3\n",
        "Failed to get national poll data from 2008 on attempt 4\n",
        "Failed to get national poll data from 2008 on attempt 5\n",
        "Failed to get national poll data from 2008 on attempt 6\n",
        "Failed to get national poll data from 2008 on attempt 7\n",
        "Failed to get national poll data from 2008 on attempt 8\n",
        "Failed to get national poll data from 2008 on attempt 9\n",
        "Failed to get national poll data from 2008 on attempt 10\n",
        "Failed to get national poll data from 2008 on attempt 11\n",
        "Failed to get national poll data from 2008 on attempt 12\n",
        "Failed to get national poll data from 2008 on attempt 13\n",
        "Failed to get national poll data from 2008 on attempt 14\n",
        "Failed to get national poll data from 2008 on attempt 15\n",
        "Failed to get national poll data from 2008 on attempt 16\n",
        "Failed to get national poll data from 2008 on attempt 17\n",
        "Failed to get national poll data from 2008 on attempt 18\n",
        "Failed to get national poll data from 2008 on attempt 19\n",
        "Failed to get national poll data from 2008 on attempt 20\n",
        "Failed to get national poll data for 2008, try to run this cell again\n"
       ]
      }
     ],
     "prompt_number": 19
    },
    {
     "cell_type": "code",
     "collapsed": false,
     "input": [
      "\"\"\"\n",
      "Get state polling data from the Obama-Mcain 2008 Race\n",
      "\"\"\"\n",
      "html_table = election_2008.find('table')\n",
      "state_polls = pd.DataFrame()\n",
      "success = False\n",
      "displaySuccess = False\n",
      "#Follow the links to get state specific polls\n",
      "for link in html_table.findAll('a'):\n",
      "    state = link.get('href')[55:57].upper() #The state abbreviations are characters 55 and 56\n",
      "    attempts = 0\n",
      "    success = False\n",
      "    while success == False and attempts < 20:\n",
      "        try: \n",
      "            html = urllib2.urlopen(link.get('href')).read()\n",
      "            success = True\n",
      "        except: \n",
      "            attempts += 1\n",
      "            print \"Request failed for state %s on attempt %d\" % (states[state], attempts)      \n",
      "            time.sleep(1)\n",
      "    if attempts == 20:\n",
      "        print \"Failed to get data for\", states[state], \" after 20 attempts\"\n",
      "        print \"Run this cell again\"\n",
      "        success = False\n",
      "        break\n",
      "    else:\n",
      "        if displaySuccess == True:\n",
      "            print \"Successfully got data for %s after %d attempts\" % (states[state], (attempts+1))\n",
      "        state_election = BeautifulSoup(html)\n",
      "        html_table = state_election.find('table', {'class':'data'})\n",
      "        state_poll = parseHTMLTable(html_table,year=2008)\n",
      "        state_poll['State'] = state\n",
      "        state_polls = state_polls.append(state_poll, ignore_index=True)\n",
      "if success == True:\n",
      "    print \"Successfully got state polling data for 2008, writing to CSV file\"\n",
      "    state_polls.to_csv(\"PollingData/State2008.csv\", index=False)\n",
      "    print state_polls.head(5)"
     ],
     "language": "python",
     "metadata": {},
     "outputs": [
      {
       "output_type": "stream",
       "stream": "stdout",
       "text": [
        "Request failed for state Alabama on attempt 1\n",
        "Request failed for state Alabama on attempt 2"
       ]
      },
      {
       "output_type": "stream",
       "stream": "stdout",
       "text": [
        "\n",
        "Request failed for state Alabama on attempt 3"
       ]
      },
      {
       "output_type": "stream",
       "stream": "stdout",
       "text": [
        "\n",
        "Request failed for state Alabama on attempt 4"
       ]
      },
      {
       "output_type": "stream",
       "stream": "stdout",
       "text": [
        "\n",
        "Request failed for state Alabama on attempt 5"
       ]
      },
      {
       "output_type": "stream",
       "stream": "stdout",
       "text": [
        "\n",
        "Request failed for state Alabama on attempt 6"
       ]
      },
      {
       "output_type": "stream",
       "stream": "stdout",
       "text": [
        "\n",
        "Request failed for state Alabama on attempt 7"
       ]
      },
      {
       "output_type": "stream",
       "stream": "stdout",
       "text": [
        "\n",
        "Request failed for state Alabama on attempt 8"
       ]
      },
      {
       "output_type": "stream",
       "stream": "stdout",
       "text": [
        "\n",
        "Request failed for state Alabama on attempt 9"
       ]
      },
      {
       "output_type": "stream",
       "stream": "stdout",
       "text": [
        "\n",
        "Request failed for state Alabama on attempt 10"
       ]
      },
      {
       "output_type": "stream",
       "stream": "stdout",
       "text": [
        "\n",
        "Request failed for state Alabama on attempt 11"
       ]
      },
      {
       "output_type": "stream",
       "stream": "stdout",
       "text": [
        "\n",
        "Request failed for state Alabama on attempt 12"
       ]
      },
      {
       "output_type": "stream",
       "stream": "stdout",
       "text": [
        "\n",
        "Request failed for state Alabama on attempt 13"
       ]
      },
      {
       "output_type": "stream",
       "stream": "stdout",
       "text": [
        "\n",
        "Request failed for state Alabama on attempt 14"
       ]
      },
      {
       "output_type": "stream",
       "stream": "stdout",
       "text": [
        "\n",
        "Request failed for state Alabama on attempt 15"
       ]
      },
      {
       "output_type": "stream",
       "stream": "stdout",
       "text": [
        "\n",
        "Request failed for state Alabama on attempt 16"
       ]
      },
      {
       "output_type": "stream",
       "stream": "stdout",
       "text": [
        "\n",
        "Request failed for state Alabama on attempt 17"
       ]
      },
      {
       "output_type": "stream",
       "stream": "stdout",
       "text": [
        "\n",
        "Request failed for state Alabama on attempt 18"
       ]
      },
      {
       "output_type": "stream",
       "stream": "stdout",
       "text": [
        "\n",
        "Request failed for state Alabama on attempt 19"
       ]
      },
      {
       "output_type": "stream",
       "stream": "stdout",
       "text": [
        "\n",
        "Request failed for state Alabama on attempt 20"
       ]
      },
      {
       "output_type": "stream",
       "stream": "stdout",
       "text": [
        "\n",
        "Failed to get data for"
       ]
      },
      {
       "output_type": "stream",
       "stream": "stdout",
       "text": [
        " Alabama  after 20 attempts\n",
        "Run this cell again\n"
       ]
      }
     ],
     "prompt_number": 20
    },
    {
     "cell_type": "code",
     "collapsed": false,
     "input": [
      "\"\"\"\n",
      "Get national poll data from Bush Kerry 2004\n",
      "\"\"\"\n",
      "BushKerryURL = 'http://www.realclearpolitics.com/epolls/2004/president/us/general_election_bush_vs_kerry-939.html#polls'\n",
      "html = urllib2.urlopen(BushKerryURL).read()\n",
      "success = False\n",
      "attempts = 0\n",
      "while success == False and attempts < 20:\n",
      "    try:\n",
      "        html = urllib2.urlopen(BushKerryURL).read()\n",
      "        success = True\n",
      "    except:\n",
      "        attempts+=1\n",
      "        print \"Failed to get national poll data from 2004 on attempt \", attempts\n",
      "        time.sleep(1)\n",
      "if attempts == 20:\n",
      "    print \"Failed to get national poll data for 2004, try to run this cell again\"\n",
      "else:\n",
      "    print \"Successfully got national poll data for 2004\"\n",
      "    election_2004 = BeautifulSoup(html)\n",
      "    table = election_2004.find_all('table', {'class':'data'})[0]\n",
      "    national_polls = parseHTMLTable(table, year=2004)\n",
      "    national_polls.to_csv(\"PollingData/National2004.csv\", index=False)\n",
      "    print national_polls.head(5)"
     ],
     "language": "python",
     "metadata": {},
     "outputs": [
      {
       "ename": "URLError",
       "evalue": "<urlopen error [Errno -2] Name or service not known>",
       "output_type": "pyerr",
       "traceback": [
        "\u001b[1;31m---------------------------------------------------------------------------\u001b[0m\n\u001b[1;31mURLError\u001b[0m                                  Traceback (most recent call last)",
        "\u001b[1;32m<ipython-input-21-a6cb846fee6a>\u001b[0m in \u001b[0;36m<module>\u001b[1;34m()\u001b[0m\n\u001b[0;32m      3\u001b[0m \"\"\"\n\u001b[0;32m      4\u001b[0m \u001b[0mBushKerryURL\u001b[0m \u001b[1;33m=\u001b[0m \u001b[1;34m'http://www.realclearpolitics.com/epolls/2004/president/us/general_election_bush_vs_kerry-939.html#polls'\u001b[0m\u001b[1;33m\u001b[0m\u001b[0m\n\u001b[1;32m----> 5\u001b[1;33m \u001b[0mhtml\u001b[0m \u001b[1;33m=\u001b[0m \u001b[0murllib2\u001b[0m\u001b[1;33m.\u001b[0m\u001b[0murlopen\u001b[0m\u001b[1;33m(\u001b[0m\u001b[0mBushKerryURL\u001b[0m\u001b[1;33m)\u001b[0m\u001b[1;33m.\u001b[0m\u001b[0mread\u001b[0m\u001b[1;33m(\u001b[0m\u001b[1;33m)\u001b[0m\u001b[1;33m\u001b[0m\u001b[0m\n\u001b[0m\u001b[0;32m      6\u001b[0m \u001b[0msuccess\u001b[0m \u001b[1;33m=\u001b[0m \u001b[0mFalse\u001b[0m\u001b[1;33m\u001b[0m\u001b[0m\n\u001b[0;32m      7\u001b[0m \u001b[0mattempts\u001b[0m \u001b[1;33m=\u001b[0m \u001b[1;36m0\u001b[0m\u001b[1;33m\u001b[0m\u001b[0m\n",
        "\u001b[1;32m/usr/lib/python2.7/urllib2.pyc\u001b[0m in \u001b[0;36murlopen\u001b[1;34m(url, data, timeout)\u001b[0m\n\u001b[0;32m    124\u001b[0m     \u001b[1;32mif\u001b[0m \u001b[0m_opener\u001b[0m \u001b[1;32mis\u001b[0m \u001b[0mNone\u001b[0m\u001b[1;33m:\u001b[0m\u001b[1;33m\u001b[0m\u001b[0m\n\u001b[0;32m    125\u001b[0m         \u001b[0m_opener\u001b[0m \u001b[1;33m=\u001b[0m \u001b[0mbuild_opener\u001b[0m\u001b[1;33m(\u001b[0m\u001b[1;33m)\u001b[0m\u001b[1;33m\u001b[0m\u001b[0m\n\u001b[1;32m--> 126\u001b[1;33m     \u001b[1;32mreturn\u001b[0m \u001b[0m_opener\u001b[0m\u001b[1;33m.\u001b[0m\u001b[0mopen\u001b[0m\u001b[1;33m(\u001b[0m\u001b[0murl\u001b[0m\u001b[1;33m,\u001b[0m \u001b[0mdata\u001b[0m\u001b[1;33m,\u001b[0m \u001b[0mtimeout\u001b[0m\u001b[1;33m)\u001b[0m\u001b[1;33m\u001b[0m\u001b[0m\n\u001b[0m\u001b[0;32m    127\u001b[0m \u001b[1;33m\u001b[0m\u001b[0m\n\u001b[0;32m    128\u001b[0m \u001b[1;32mdef\u001b[0m \u001b[0minstall_opener\u001b[0m\u001b[1;33m(\u001b[0m\u001b[0mopener\u001b[0m\u001b[1;33m)\u001b[0m\u001b[1;33m:\u001b[0m\u001b[1;33m\u001b[0m\u001b[0m\n",
        "\u001b[1;32m/usr/lib/python2.7/urllib2.pyc\u001b[0m in \u001b[0;36mopen\u001b[1;34m(self, fullurl, data, timeout)\u001b[0m\n\u001b[0;32m    398\u001b[0m             \u001b[0mreq\u001b[0m \u001b[1;33m=\u001b[0m \u001b[0mmeth\u001b[0m\u001b[1;33m(\u001b[0m\u001b[0mreq\u001b[0m\u001b[1;33m)\u001b[0m\u001b[1;33m\u001b[0m\u001b[0m\n\u001b[0;32m    399\u001b[0m \u001b[1;33m\u001b[0m\u001b[0m\n\u001b[1;32m--> 400\u001b[1;33m         \u001b[0mresponse\u001b[0m \u001b[1;33m=\u001b[0m \u001b[0mself\u001b[0m\u001b[1;33m.\u001b[0m\u001b[0m_open\u001b[0m\u001b[1;33m(\u001b[0m\u001b[0mreq\u001b[0m\u001b[1;33m,\u001b[0m \u001b[0mdata\u001b[0m\u001b[1;33m)\u001b[0m\u001b[1;33m\u001b[0m\u001b[0m\n\u001b[0m\u001b[0;32m    401\u001b[0m \u001b[1;33m\u001b[0m\u001b[0m\n\u001b[0;32m    402\u001b[0m         \u001b[1;31m# post-process response\u001b[0m\u001b[1;33m\u001b[0m\u001b[1;33m\u001b[0m\u001b[0m\n",
        "\u001b[1;32m/usr/lib/python2.7/urllib2.pyc\u001b[0m in \u001b[0;36m_open\u001b[1;34m(self, req, data)\u001b[0m\n\u001b[0;32m    416\u001b[0m         \u001b[0mprotocol\u001b[0m \u001b[1;33m=\u001b[0m \u001b[0mreq\u001b[0m\u001b[1;33m.\u001b[0m\u001b[0mget_type\u001b[0m\u001b[1;33m(\u001b[0m\u001b[1;33m)\u001b[0m\u001b[1;33m\u001b[0m\u001b[0m\n\u001b[0;32m    417\u001b[0m         result = self._call_chain(self.handle_open, protocol, protocol +\n\u001b[1;32m--> 418\u001b[1;33m                                   '_open', req)\n\u001b[0m\u001b[0;32m    419\u001b[0m         \u001b[1;32mif\u001b[0m \u001b[0mresult\u001b[0m\u001b[1;33m:\u001b[0m\u001b[1;33m\u001b[0m\u001b[0m\n\u001b[0;32m    420\u001b[0m             \u001b[1;32mreturn\u001b[0m \u001b[0mresult\u001b[0m\u001b[1;33m\u001b[0m\u001b[0m\n",
        "\u001b[1;32m/usr/lib/python2.7/urllib2.pyc\u001b[0m in \u001b[0;36m_call_chain\u001b[1;34m(self, chain, kind, meth_name, *args)\u001b[0m\n\u001b[0;32m    376\u001b[0m             \u001b[0mfunc\u001b[0m \u001b[1;33m=\u001b[0m \u001b[0mgetattr\u001b[0m\u001b[1;33m(\u001b[0m\u001b[0mhandler\u001b[0m\u001b[1;33m,\u001b[0m \u001b[0mmeth_name\u001b[0m\u001b[1;33m)\u001b[0m\u001b[1;33m\u001b[0m\u001b[0m\n\u001b[0;32m    377\u001b[0m \u001b[1;33m\u001b[0m\u001b[0m\n\u001b[1;32m--> 378\u001b[1;33m             \u001b[0mresult\u001b[0m \u001b[1;33m=\u001b[0m \u001b[0mfunc\u001b[0m\u001b[1;33m(\u001b[0m\u001b[1;33m*\u001b[0m\u001b[0margs\u001b[0m\u001b[1;33m)\u001b[0m\u001b[1;33m\u001b[0m\u001b[0m\n\u001b[0m\u001b[0;32m    379\u001b[0m             \u001b[1;32mif\u001b[0m \u001b[0mresult\u001b[0m \u001b[1;32mis\u001b[0m \u001b[1;32mnot\u001b[0m \u001b[0mNone\u001b[0m\u001b[1;33m:\u001b[0m\u001b[1;33m\u001b[0m\u001b[0m\n\u001b[0;32m    380\u001b[0m                 \u001b[1;32mreturn\u001b[0m \u001b[0mresult\u001b[0m\u001b[1;33m\u001b[0m\u001b[0m\n",
        "\u001b[1;32m/usr/lib/python2.7/urllib2.pyc\u001b[0m in \u001b[0;36mhttp_open\u001b[1;34m(self, req)\u001b[0m\n\u001b[0;32m   1205\u001b[0m \u001b[1;33m\u001b[0m\u001b[0m\n\u001b[0;32m   1206\u001b[0m     \u001b[1;32mdef\u001b[0m \u001b[0mhttp_open\u001b[0m\u001b[1;33m(\u001b[0m\u001b[0mself\u001b[0m\u001b[1;33m,\u001b[0m \u001b[0mreq\u001b[0m\u001b[1;33m)\u001b[0m\u001b[1;33m:\u001b[0m\u001b[1;33m\u001b[0m\u001b[0m\n\u001b[1;32m-> 1207\u001b[1;33m         \u001b[1;32mreturn\u001b[0m \u001b[0mself\u001b[0m\u001b[1;33m.\u001b[0m\u001b[0mdo_open\u001b[0m\u001b[1;33m(\u001b[0m\u001b[0mhttplib\u001b[0m\u001b[1;33m.\u001b[0m\u001b[0mHTTPConnection\u001b[0m\u001b[1;33m,\u001b[0m \u001b[0mreq\u001b[0m\u001b[1;33m)\u001b[0m\u001b[1;33m\u001b[0m\u001b[0m\n\u001b[0m\u001b[0;32m   1208\u001b[0m \u001b[1;33m\u001b[0m\u001b[0m\n\u001b[0;32m   1209\u001b[0m     \u001b[0mhttp_request\u001b[0m \u001b[1;33m=\u001b[0m \u001b[0mAbstractHTTPHandler\u001b[0m\u001b[1;33m.\u001b[0m\u001b[0mdo_request_\u001b[0m\u001b[1;33m\u001b[0m\u001b[0m\n",
        "\u001b[1;32m/usr/lib/python2.7/urllib2.pyc\u001b[0m in \u001b[0;36mdo_open\u001b[1;34m(self, http_class, req)\u001b[0m\n\u001b[0;32m   1175\u001b[0m         \u001b[1;32mexcept\u001b[0m \u001b[0msocket\u001b[0m\u001b[1;33m.\u001b[0m\u001b[0merror\u001b[0m\u001b[1;33m,\u001b[0m \u001b[0merr\u001b[0m\u001b[1;33m:\u001b[0m \u001b[1;31m# XXX what error?\u001b[0m\u001b[1;33m\u001b[0m\u001b[0m\n\u001b[0;32m   1176\u001b[0m             \u001b[0mh\u001b[0m\u001b[1;33m.\u001b[0m\u001b[0mclose\u001b[0m\u001b[1;33m(\u001b[0m\u001b[1;33m)\u001b[0m\u001b[1;33m\u001b[0m\u001b[0m\n\u001b[1;32m-> 1177\u001b[1;33m             \u001b[1;32mraise\u001b[0m \u001b[0mURLError\u001b[0m\u001b[1;33m(\u001b[0m\u001b[0merr\u001b[0m\u001b[1;33m)\u001b[0m\u001b[1;33m\u001b[0m\u001b[0m\n\u001b[0m\u001b[0;32m   1178\u001b[0m         \u001b[1;32melse\u001b[0m\u001b[1;33m:\u001b[0m\u001b[1;33m\u001b[0m\u001b[0m\n\u001b[0;32m   1179\u001b[0m             \u001b[1;32mtry\u001b[0m\u001b[1;33m:\u001b[0m\u001b[1;33m\u001b[0m\u001b[0m\n",
        "\u001b[1;31mURLError\u001b[0m: <urlopen error [Errno -2] Name or service not known>"
       ]
      }
     ],
     "prompt_number": 21
    },
    {
     "cell_type": "code",
     "collapsed": false,
     "input": [
      "#To do\n",
      "def parse2004State(table):\n",
      "    return pd.DataFrame()"
     ],
     "language": "python",
     "metadata": {},
     "outputs": []
    },
    {
     "cell_type": "code",
     "collapsed": false,
     "input": [
      "\"\"\"\n",
      "To Do\n",
      "Get state poll data from 2004 Bush Kerry\n",
      "\n",
      "URL_prefix ='http://www.realclearpolitics.com/Presidential_04/'\n",
      "URL_suffix ='_polls.html'\n",
      "displaySuccess = False\n",
      "state_polls = pd.DataFrame()\n",
      "for state in states:\n",
      "    if state == 'DC': continue; #No polling data avaible for DC.\n",
      "    attempts = 0\n",
      "    success = False\n",
      "    URL = URL_prefix+state.lower()+URL_suffix\n",
      "    while success == False and attempts < 20:\n",
      "        try: \n",
      "            html = urllib2.urlopen(URL).read()\n",
      "            success = True\n",
      "        except: \n",
      "            attempts += 1\n",
      "            print \"Request failed for state %s on attempt %d\" % (states[state], attempts)      \n",
      "            time.sleep(1)\n",
      "    if attempts == 20:\n",
      "        print \"Failed to get data for\", states[state], \" after 20 attempts\"\n",
      "        print \"Run this cell again\"\n",
      "        success = False\n",
      "        break\n",
      "    else:\n",
      "        if displaySuccess == True:\n",
      "            print \"Successfully got data for %s after %d attempts\" % (states[state], (attempts+1))\n",
      "        state_election = BeautifulSoup(html)\n",
      "        #html_table = state_election.find('table', {'class':'data'})\n",
      "        #state_poll = parse2004State(html_table, year=2004)\n",
      "        state_poll['State'] = state\n",
      "        state_polls = state_polls.append(state_poll, ignore_index=True)\"\"\""
     ],
     "language": "python",
     "metadata": {},
     "outputs": []
    }
   ],
   "metadata": {}
  }
 ]
}