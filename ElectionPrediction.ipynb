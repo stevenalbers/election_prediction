{
 "metadata": {
  "name": ""
 },
 "nbformat": 3,
 "nbformat_minor": 0,
 "worksheets": [
  {
   "cells": [
    {
     "cell_type": "code",
     "collapsed": false,
     "input": [
      "import pandas as pd\n",
      "import numpy as np\n",
      "from math import isnan"
     ],
     "language": "python",
     "metadata": {},
     "outputs": [
      {
       "ename": "ImportError",
       "evalue": "No module named pandas",
       "output_type": "pyerr",
       "traceback": [
        "\u001b[0;31m---------------------------------------------------------------------------\u001b[0m\n\u001b[0;31mImportError\u001b[0m                               Traceback (most recent call last)",
        "\u001b[0;32m<ipython-input-1-fdeb27833f25>\u001b[0m in \u001b[0;36m<module>\u001b[0;34m()\u001b[0m\n\u001b[0;32m----> 1\u001b[0;31m \u001b[0;32mimport\u001b[0m \u001b[0mpandas\u001b[0m \u001b[0;32mas\u001b[0m \u001b[0mpd\u001b[0m\u001b[0;34m\u001b[0m\u001b[0m\n\u001b[0m\u001b[1;32m      2\u001b[0m \u001b[0;32mimport\u001b[0m \u001b[0mnumpy\u001b[0m \u001b[0;32mas\u001b[0m \u001b[0mnp\u001b[0m\u001b[0;34m\u001b[0m\u001b[0m\n\u001b[1;32m      3\u001b[0m \u001b[0;32mfrom\u001b[0m \u001b[0mmath\u001b[0m \u001b[0;32mimport\u001b[0m \u001b[0misnan\u001b[0m\u001b[0;34m\u001b[0m\u001b[0m\n",
        "\u001b[0;31mImportError\u001b[0m: No module named pandas"
       ]
      }
     ],
     "prompt_number": 1
    },
    {
     "cell_type": "code",
     "collapsed": false,
     "input": [
      "#Make a dictionary of corresponding to state names\n",
      "states_dict = {}\n",
      "with open(\"states.csv\") as statesCSV:\n",
      "    for state in statesCSV:\n",
      "        state = state.split(',')\n",
      "        states_dict[state[1].replace('\\n',\"\")] = state[0]"
     ],
     "language": "python",
     "metadata": {},
     "outputs": []
    },
    {
     "cell_type": "code",
     "collapsed": false,
     "input": [
      "polling2012 = pd.read_csv(\"PollingData/State2012.csv\")\n",
      "\n",
      "#Don't use state abbreviations\n",
      "polling2012.State.replace(states_dict, inplace=True)\n",
      "\n",
      "#Make dates pandas friendly and keep polls that ended within 45 days of the election\n",
      "polling2012.Date += \"/2012\" #Make the year 2012\n",
      "polling2012.Date = polling2012.Date.apply(pd.datetools.parse)\n",
      "election_day = pd.to_datetime(\"2012-11-6\")\n",
      "days_from_election = election_day - polling2012.Date\n",
      "index = days_from_election < np.timedelta64(30, 'D') \n",
      "polling2012 = polling2012[index]\n",
      "polling2012.reset_index(inplace=True)\n",
      "\n",
      "#Handle missing sample sizes and margin of errors\n",
      "#Assume the missing polls are worse than average\n",
      "polling2012.Sample.replace(float('nan'), polling2012.Sample.mean() - polling2012.Sample.std(), inplace=True)\n",
      "polling2012.MoE.replace(float('nan'), polling2012.MoE.mean() + polling2012.MoE.std(), inplace=True)"
     ],
     "language": "python",
     "metadata": {},
     "outputs": []
    },
    {
     "cell_type": "code",
     "collapsed": false,
     "input": [
      "#Read in the partisan voting index and electoral vote count of each state\n",
      "states = pd.read_csv(\"ElectoralVotes.csv\")\n",
      "states.index = states.State\n",
      "states.drop(['State'], axis=1,inplace=True)\n",
      "states = states.join(states.from_csv(\"PVI.csv\"))"
     ],
     "language": "python",
     "metadata": {},
     "outputs": []
    },
    {
     "cell_type": "code",
     "collapsed": false,
     "input": [
      "#Discount polls the farther from the elections they occured\n",
      "days_from_election = election_day - polling2012.Date\n",
      "polling2012['days_away'] = days_from_election / np.timedelta64(1, 'D')\n",
      "polling2012['time_discount'] = polling2012.days_away.apply(lambda x : .5 ** (x/30.0))\n",
      "polling2012.drop(['Date'], axis=1, inplace=True)"
     ],
     "language": "python",
     "metadata": {},
     "outputs": []
    },
    {
     "cell_type": "code",
     "collapsed": false,
     "input": [
      "def calculateSpread(state):\n",
      "    return (state.time_discount * state.Spread).sum() / (state.time_discount.sum())\n",
      "\n",
      "\n",
      "states['Spread'] =  polling2012.groupby(['State'], sort=True).apply(calculateSpread)"
     ],
     "language": "python",
     "metadata": {},
     "outputs": []
    },
    {
     "cell_type": "code",
     "collapsed": false,
     "input": [
      "#Calculate the electoral votes won by Romeny/Obama\n",
      "Obama = 0\n",
      "Romney = 0\n",
      "print states.columns\n",
      "for state in states.index:\n",
      "    spread = states.xs(state).Spread\n",
      "    PVI = states.xs(state).PVI\n",
      "    votes = states.xs(state).ElectoralVotes\n",
      "    if isnan(spread):\n",
      "        if PVI < 0:\n",
      "            Romney += votes\n",
      "        else:\n",
      "            Obama += votes\n",
      "    elif spread < 0:\n",
      "        Romney += votes\n",
      "    else:\n",
      "        Obama += votes\n",
      "print \"Obama: \", Obama\n",
      "print \"Romney: \", Romney\n",
      "states.to_csv(\"asdf\")"
     ],
     "language": "python",
     "metadata": {},
     "outputs": []
    },
    {
     "cell_type": "code",
     "collapsed": false,
     "input": [],
     "language": "python",
     "metadata": {},
     "outputs": []
    }
   ],
   "metadata": {}
  }
 ]
}