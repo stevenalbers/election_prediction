{
 "metadata": {
  "name": ""
 },
 "nbformat": 3,
 "nbformat_minor": 0,
 "worksheets": [
  {
   "cells": [
    {
     "cell_type": "code",
     "collapsed": false,
     "input": [
      "import pandas as pd\n",
      "import numpy as np"
     ],
     "language": "python",
     "metadata": {},
     "outputs": [],
     "prompt_number": 89
    },
    {
     "cell_type": "code",
     "collapsed": false,
     "input": [
      "all_info = pd.read_csv(\"CensusData/CensusData.csv\")\n",
      "\n",
      "#Give the columns more descriptive names\n",
      "#Make a dictionary of census codes to item descriptions\n",
      "attributes = {'fips':'State/County'}\n",
      "with open(\"CensusData/CensusDict.txt\") as censusDict:\n",
      "    #The first two lines can be ignored\n",
      "    for i in range(2): censusDict.readline()\n",
      "    for line in censusDict:\n",
      "        data_item = line[0:9]\n",
      "        #I'm splitting the item_description to get rid of extra whitespace at the end.\n",
      "        item_description = \" \".join(line[10:98].split())  \n",
      "        attributes[data_item] = item_description\n",
      "all_info.rename(columns=lambda x:attributes[x], inplace=True)\n",
      "#Make a table containg all the state data\n",
      "states = all_info[ all_info['State/County'] % 1000 == 0]\n",
      "\n",
      "#Substitute in FIPS codes for state/county names\n",
      "code_to_place = {}\n",
      "with open(\"CensusData/FIPS_CountyName.txt\") as fips_naming_info:\n",
      "    for line in fips_naming_info:\n",
      "        code = int(line[0:6])\n",
      "        place = \" \".join(line[6:].split()) #Again, splitting to remove extra whitespace\n",
      "        code_to_place[code] = place\n",
      "all_info['State/County'] = all_info['State/County'].map(lambda x : code_to_place[x])\n",
      "states['State/County'] = states['State/County'].map(lambda x : code_to_place[x])\n",
      "\n",
      "#Store the modified census data in a csv file\n",
      "all_info.to_csv(\"CensusData/StateCountyCensusData.csv\")\n",
      "states.to_csv(\"CensusData/StateCensusData.csv\")"
     ],
     "language": "python",
     "metadata": {},
     "outputs": [],
     "prompt_number": 96
    }
   ],
   "metadata": {}
  }
 ]
}